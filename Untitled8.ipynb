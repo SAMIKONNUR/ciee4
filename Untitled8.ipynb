{
  "nbformat": 4,
  "nbformat_minor": 0,
  "metadata": {
    "colab": {
      "provenance": [],
      "authorship_tag": "ABX9TyPFUCRUgB29JvONC9rBqa83",
      "include_colab_link": true
    },
    "kernelspec": {
      "name": "python3",
      "display_name": "Python 3"
    },
    "language_info": {
      "name": "python"
    }
  },
  "cells": [
    {
      "cell_type": "markdown",
      "metadata": {
        "id": "view-in-github",
        "colab_type": "text"
      },
      "source": [
        "<a href=\"https://colab.research.google.com/github/SAMIKONNUR/ciee4/blob/main/Untitled8.ipynb\" target=\"_parent\"><img src=\"https://colab.research.google.com/assets/colab-badge.svg\" alt=\"Open In Colab\"/></a>"
      ]
    },
    {
      "cell_type": "code",
      "source": [
        "import pandas as pd\n",
        "from sklearn.model_selection import train_test_split\n",
        "from sklearn.metrics import mean_squared_error\n",
        "\n",
        "from sklearn.ensemble import RandomForestRegressor\n",
        "import xgboost as xgb\n",
        "from sklearn.linear_model import LinearRegression\n",
        "df = pd.read_csv(\"/content/train.csv\")\n",
        "df = df.dropna()\n",
        "df = df.select_dtypes(include=['number'])\n",
        "target = df[\"Survived\"]\n",
        "train = df.drop(\"Survived\", axis=1)\n",
        "X_train, X_test, y_train, y_test = train_test_split(train, target, test_size=0.20, random_state=42)\n",
        "model_1 = LinearRegression()\n",
        "model_2 = xgb.XGBRegressor(objective='reg:squarederror', eval_metric='rmse')\n",
        "model_3 = RandomForestRegressor()\n",
        "model_1.fit(X_train, y_train)\n",
        "model_2.fit(X_train, y_train)\n",
        "model_3.fit(X_train, y_train)\n",
        "pred_1 = model_1.predict(X_test)\n",
        "pred_2 = model_2.predict(X_test)\n",
        "pred_3 = model_3.predict(X_test)\n",
        "pred_final = (pred_1 + pred_2 + pred_3) / 3.0\n",
        "print(\"Mean Squared Error:\", mean_squared_error(y_test, pred_final))"
      ],
      "metadata": {
        "colab": {
          "base_uri": "https://localhost:8080/"
        },
        "id": "LPccEowK-gvy",
        "outputId": "d3d0e68f-cd1c-4cc6-83ab-0904f4d989ce"
      },
      "execution_count": 22,
      "outputs": [
        {
          "output_type": "stream",
          "name": "stdout",
          "text": [
            "Mean Squared Error: 0.19364748897265302\n"
          ]
        }
      ]
    },
    {
      "cell_type": "code",
      "source": [
        "print(pred_final)"
      ],
      "metadata": {
        "colab": {
          "base_uri": "https://localhost:8080/"
        },
        "id": "NOBdWvWZ_GFS",
        "outputId": "51c64a61-7ee6-4d5b-92f5-b55c50f1cb21"
      },
      "execution_count": 23,
      "outputs": [
        {
          "output_type": "stream",
          "name": "stdout",
          "text": [
            "[0.67717478 0.25783164 0.68003563 0.82752837 0.46196455 0.18349469\n",
            " 0.70299919 0.7877069  0.7177586  0.68054082 0.59026691 0.5622925\n",
            " 0.17821511 0.7919312  0.70705631 0.58756932 0.55743186 0.60047307\n",
            " 0.23338211 0.78517264 0.78815292 0.9130879  0.67028368 0.76587507\n",
            " 0.36740627 0.83313585 0.62291285 0.18291607 0.76740447 0.70358244\n",
            " 0.89709692 0.61340065 0.75854952 0.87736284 0.75229352 0.38159118\n",
            " 0.87903633]\n"
          ]
        }
      ]
    }
  ]
}